{
  "nbformat": 4,
  "nbformat_minor": 0,
  "metadata": {
    "colab": {
      "provenance": [],
      "authorship_tag": "ABX9TyOC7qjuqLBCCNT3iMYrcOjl",
      "include_colab_link": true
    },
    "kernelspec": {
      "name": "python3",
      "display_name": "Python 3"
    },
    "language_info": {
      "name": "python"
    }
  },
  "cells": [
    {
      "cell_type": "markdown",
      "metadata": {
        "id": "view-in-github",
        "colab_type": "text"
      },
      "source": [
        "<a href=\"https://colab.research.google.com/github/prateek1110-git/Face_detection/blob/main/face_detection.ipynb\" target=\"_parent\"><img src=\"https://colab.research.google.com/assets/colab-badge.svg\" alt=\"Open In Colab\"/></a>"
      ]
    },
    {
      "cell_type": "code",
      "execution_count": null,
      "metadata": {
        "colab": {
          "base_uri": "https://localhost:8080/"
        },
        "id": "8ywZJ32PWGY7",
        "outputId": "fc05b5a4-5144-4c25-f4d1-8a2df57132c5"
      },
      "outputs": [
        {
          "output_type": "stream",
          "name": "stdout",
          "text": [
            "Requirement already satisfied: labelme in /usr/local/lib/python3.11/dist-packages (5.6.1)\n",
            "Requirement already satisfied: albumentations in /usr/local/lib/python3.11/dist-packages (1.4.20)\n",
            "Requirement already satisfied: gdown in /usr/local/lib/python3.11/dist-packages (from labelme) (5.2.0)\n",
            "Requirement already satisfied: imgviz>=1.7.5 in /usr/local/lib/python3.11/dist-packages (from labelme) (1.7.6)\n",
            "Requirement already satisfied: loguru in /usr/local/lib/python3.11/dist-packages (from labelme) (0.7.3)\n",
            "Requirement already satisfied: matplotlib in /usr/local/lib/python3.11/dist-packages (from labelme) (3.10.0)\n",
            "Requirement already satisfied: natsort>=7.1.0 in /usr/local/lib/python3.11/dist-packages (from labelme) (8.4.0)\n",
            "Requirement already satisfied: numpy in /usr/local/lib/python3.11/dist-packages (from labelme) (1.26.4)\n",
            "Requirement already satisfied: onnxruntime!=1.16.0,>=1.14.1 in /usr/local/lib/python3.11/dist-packages (from labelme) (1.20.1)\n",
            "Requirement already satisfied: osam>=0.2.2 in /usr/local/lib/python3.11/dist-packages (from labelme) (0.2.2)\n",
            "Requirement already satisfied: Pillow>=2.8 in /usr/local/lib/python3.11/dist-packages (from labelme) (11.1.0)\n",
            "Requirement already satisfied: PyYAML in /usr/local/lib/python3.11/dist-packages (from labelme) (6.0.2)\n",
            "Requirement already satisfied: qtpy!=1.11.2 in /usr/local/lib/python3.11/dist-packages (from labelme) (2.4.2)\n",
            "Requirement already satisfied: scikit-image in /usr/local/lib/python3.11/dist-packages (from labelme) (0.25.0)\n",
            "Requirement already satisfied: termcolor in /usr/local/lib/python3.11/dist-packages (from labelme) (2.5.0)\n",
            "Requirement already satisfied: PyQt5!=5.15.3,!=5.15.4 in /usr/local/lib/python3.11/dist-packages (from labelme) (5.15.11)\n",
            "Requirement already satisfied: scipy>=1.10.0 in /usr/local/lib/python3.11/dist-packages (from albumentations) (1.13.1)\n",
            "Requirement already satisfied: pydantic>=2.7.0 in /usr/local/lib/python3.11/dist-packages (from albumentations) (2.10.5)\n",
            "Requirement already satisfied: albucore==0.0.19 in /usr/local/lib/python3.11/dist-packages (from albumentations) (0.0.19)\n",
            "Requirement already satisfied: eval-type-backport in /usr/local/lib/python3.11/dist-packages (from albumentations) (0.2.2)\n",
            "Requirement already satisfied: opencv-python-headless>=4.9.0.80 in /usr/local/lib/python3.11/dist-packages (from albumentations) (4.10.0.84)\n",
            "Requirement already satisfied: stringzilla>=3.10.4 in /usr/local/lib/python3.11/dist-packages (from albucore==0.0.19->albumentations) (3.11.3)\n",
            "Requirement already satisfied: coloredlogs in /usr/local/lib/python3.11/dist-packages (from onnxruntime!=1.16.0,>=1.14.1->labelme) (15.0.1)\n",
            "Requirement already satisfied: flatbuffers in /usr/local/lib/python3.11/dist-packages (from onnxruntime!=1.16.0,>=1.14.1->labelme) (24.12.23)\n",
            "Requirement already satisfied: packaging in /usr/local/lib/python3.11/dist-packages (from onnxruntime!=1.16.0,>=1.14.1->labelme) (24.2)\n",
            "Requirement already satisfied: protobuf in /usr/local/lib/python3.11/dist-packages (from onnxruntime!=1.16.0,>=1.14.1->labelme) (4.25.5)\n",
            "Requirement already satisfied: sympy in /usr/local/lib/python3.11/dist-packages (from onnxruntime!=1.16.0,>=1.14.1->labelme) (1.13.1)\n",
            "Requirement already satisfied: click in /usr/local/lib/python3.11/dist-packages (from osam>=0.2.2->labelme) (8.1.8)\n",
            "Requirement already satisfied: annotated-types>=0.6.0 in /usr/local/lib/python3.11/dist-packages (from pydantic>=2.7.0->albumentations) (0.7.0)\n",
            "Requirement already satisfied: pydantic-core==2.27.2 in /usr/local/lib/python3.11/dist-packages (from pydantic>=2.7.0->albumentations) (2.27.2)\n",
            "Requirement already satisfied: typing-extensions>=4.12.2 in /usr/local/lib/python3.11/dist-packages (from pydantic>=2.7.0->albumentations) (4.12.2)\n",
            "Requirement already satisfied: PyQt5-sip<13,>=12.15 in /usr/local/lib/python3.11/dist-packages (from PyQt5!=5.15.3,!=5.15.4->labelme) (12.16.1)\n",
            "Requirement already satisfied: PyQt5-Qt5<5.16.0,>=5.15.2 in /usr/local/lib/python3.11/dist-packages (from PyQt5!=5.15.3,!=5.15.4->labelme) (5.15.16)\n",
            "Requirement already satisfied: beautifulsoup4 in /usr/local/lib/python3.11/dist-packages (from gdown->labelme) (4.12.3)\n",
            "Requirement already satisfied: filelock in /usr/local/lib/python3.11/dist-packages (from gdown->labelme) (3.16.1)\n",
            "Requirement already satisfied: requests[socks] in /usr/local/lib/python3.11/dist-packages (from gdown->labelme) (2.32.3)\n",
            "Requirement already satisfied: tqdm in /usr/local/lib/python3.11/dist-packages (from gdown->labelme) (4.67.1)\n",
            "Requirement already satisfied: contourpy>=1.0.1 in /usr/local/lib/python3.11/dist-packages (from matplotlib->labelme) (1.3.1)\n",
            "Requirement already satisfied: cycler>=0.10 in /usr/local/lib/python3.11/dist-packages (from matplotlib->labelme) (0.12.1)\n",
            "Requirement already satisfied: fonttools>=4.22.0 in /usr/local/lib/python3.11/dist-packages (from matplotlib->labelme) (4.55.3)\n",
            "Requirement already satisfied: kiwisolver>=1.3.1 in /usr/local/lib/python3.11/dist-packages (from matplotlib->labelme) (1.4.8)\n",
            "Requirement already satisfied: pyparsing>=2.3.1 in /usr/local/lib/python3.11/dist-packages (from matplotlib->labelme) (3.2.1)\n",
            "Requirement already satisfied: python-dateutil>=2.7 in /usr/local/lib/python3.11/dist-packages (from matplotlib->labelme) (2.8.2)\n",
            "Requirement already satisfied: networkx>=3.0 in /usr/local/lib/python3.11/dist-packages (from scikit-image->labelme) (3.4.2)\n",
            "Requirement already satisfied: imageio!=2.35.0,>=2.33 in /usr/local/lib/python3.11/dist-packages (from scikit-image->labelme) (2.36.1)\n",
            "Requirement already satisfied: tifffile>=2022.8.12 in /usr/local/lib/python3.11/dist-packages (from scikit-image->labelme) (2024.12.12)\n",
            "Requirement already satisfied: lazy-loader>=0.4 in /usr/local/lib/python3.11/dist-packages (from scikit-image->labelme) (0.4)\n",
            "Requirement already satisfied: six>=1.5 in /usr/local/lib/python3.11/dist-packages (from python-dateutil>=2.7->matplotlib->labelme) (1.17.0)\n",
            "Requirement already satisfied: soupsieve>1.2 in /usr/local/lib/python3.11/dist-packages (from beautifulsoup4->gdown->labelme) (2.6)\n",
            "Requirement already satisfied: humanfriendly>=9.1 in /usr/local/lib/python3.11/dist-packages (from coloredlogs->onnxruntime!=1.16.0,>=1.14.1->labelme) (10.0)\n",
            "Requirement already satisfied: charset-normalizer<4,>=2 in /usr/local/lib/python3.11/dist-packages (from requests[socks]->gdown->labelme) (3.4.1)\n",
            "Requirement already satisfied: idna<4,>=2.5 in /usr/local/lib/python3.11/dist-packages (from requests[socks]->gdown->labelme) (3.10)\n",
            "Requirement already satisfied: urllib3<3,>=1.21.1 in /usr/local/lib/python3.11/dist-packages (from requests[socks]->gdown->labelme) (2.3.0)\n",
            "Requirement already satisfied: certifi>=2017.4.17 in /usr/local/lib/python3.11/dist-packages (from requests[socks]->gdown->labelme) (2024.12.14)\n",
            "Requirement already satisfied: PySocks!=1.5.7,>=1.5.6 in /usr/local/lib/python3.11/dist-packages (from requests[socks]->gdown->labelme) (1.7.1)\n",
            "Requirement already satisfied: mpmath<1.4,>=1.1.0 in /usr/local/lib/python3.11/dist-packages (from sympy->onnxruntime!=1.16.0,>=1.14.1->labelme) (1.3.0)\n"
          ]
        }
      ],
      "source": [
        "!pip install labelme tensorflow tensorflow-gpu opencv-python matplotlib albumentations\n"
      ]
    },
    {
      "cell_type": "code",
      "source": [
        "import os\n",
        "import time\n",
        "import uuid\n",
        "import cv2"
      ],
      "metadata": {
        "id": "S_t_42Yej3Ei"
      },
      "execution_count": null,
      "outputs": []
    },
    {
      "cell_type": "code",
      "source": [
        "images_path = os.path.join('data','images')\n",
        "number_images = 30"
      ],
      "metadata": {
        "id": "H9gYLExkkEfo"
      },
      "execution_count": null,
      "outputs": []
    },
    {
      "cell_type": "code",
      "source": [
        "cap = cv2.VideoCapture(0)\n",
        "for imgnum in range(number_images):\n",
        "    print('Collecting image {}'.format(imgnum))\n",
        "    ret, frame = cap.read()\n",
        "    imgname = os.path.join(images_path,f'{str(uuid.uuid1())}.jpg')\n",
        "    cv2.imwrite(imgname, frame)\n",
        "    cv2.imshow('frame', frame)\n",
        "    time.sleep(0.5)\n",
        "\n",
        "    if cv2.waitKey(1) & 0xFF == ord('q'):\n",
        "        break\n",
        "cap.release()\n",
        "cv2.destroyAllWindows()"
      ],
      "metadata": {
        "colab": {
          "base_uri": "https://localhost:8080/"
        },
        "id": "HEJwQcQFmVRl",
        "outputId": "97be4f00-d603-4f66-b788-a7e501032ec5"
      },
      "execution_count": null,
      "outputs": [
        {
          "output_type": "stream",
          "name": "stdout",
          "text": [
            "Error: Could not open camera.\n",
            "Collecting image 0\n",
            "Error: Could not read frame.\n"
          ]
        }
      ]
    },
    {
      "cell_type": "code",
      "source": [],
      "metadata": {
        "id": "cwdwKqNqqm7w"
      },
      "execution_count": null,
      "outputs": []
    }
  ]
}